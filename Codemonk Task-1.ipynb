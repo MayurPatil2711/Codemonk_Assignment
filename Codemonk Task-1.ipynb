{
 "cells": [
  {
   "cell_type": "markdown",
   "id": "2c5dc121",
   "metadata": {},
   "source": [
    "# Importing Modules"
   ]
  },
  {
   "cell_type": "code",
   "execution_count": 1,
   "id": "25081c85",
   "metadata": {},
   "outputs": [],
   "source": [
    "import numpy as np\n",
    "import pandas as pd\n",
    "import matplotlib.pyplot as plt\n",
    "import seaborn as sns\n",
    "%matplotlib inline"
   ]
  },
  {
   "cell_type": "markdown",
   "id": "87e6b2c2",
   "metadata": {},
   "source": [
    "# Loading Data"
   ]
  },
  {
   "cell_type": "code",
   "execution_count": 2,
   "id": "affb614b",
   "metadata": {},
   "outputs": [
    {
     "data": {
      "text/html": [
       "<div>\n",
       "<style scoped>\n",
       "    .dataframe tbody tr th:only-of-type {\n",
       "        vertical-align: middle;\n",
       "    }\n",
       "\n",
       "    .dataframe tbody tr th {\n",
       "        vertical-align: top;\n",
       "    }\n",
       "\n",
       "    .dataframe thead th {\n",
       "        text-align: right;\n",
       "    }\n",
       "</style>\n",
       "<table border=\"1\" class=\"dataframe\">\n",
       "  <thead>\n",
       "    <tr style=\"text-align: right;\">\n",
       "      <th></th>\n",
       "      <th>State_Name</th>\n",
       "      <th>District_Name</th>\n",
       "      <th>Crop_Year</th>\n",
       "      <th>Season</th>\n",
       "      <th>Crop</th>\n",
       "      <th>Area</th>\n",
       "      <th>Production</th>\n",
       "    </tr>\n",
       "  </thead>\n",
       "  <tbody>\n",
       "    <tr>\n",
       "      <th>0</th>\n",
       "      <td>Andaman and Nicobar Islands</td>\n",
       "      <td>NICOBARS</td>\n",
       "      <td>2000</td>\n",
       "      <td>Kharif</td>\n",
       "      <td>Arecanut</td>\n",
       "      <td>1254.0</td>\n",
       "      <td>2000.0</td>\n",
       "    </tr>\n",
       "    <tr>\n",
       "      <th>1</th>\n",
       "      <td>Andaman and Nicobar Islands</td>\n",
       "      <td>NICOBARS</td>\n",
       "      <td>2000</td>\n",
       "      <td>Kharif</td>\n",
       "      <td>Other Kharif pulses</td>\n",
       "      <td>2.0</td>\n",
       "      <td>1.0</td>\n",
       "    </tr>\n",
       "    <tr>\n",
       "      <th>2</th>\n",
       "      <td>Andaman and Nicobar Islands</td>\n",
       "      <td>NICOBARS</td>\n",
       "      <td>2000</td>\n",
       "      <td>Kharif</td>\n",
       "      <td>Rice</td>\n",
       "      <td>102.0</td>\n",
       "      <td>321.0</td>\n",
       "    </tr>\n",
       "    <tr>\n",
       "      <th>3</th>\n",
       "      <td>Andaman and Nicobar Islands</td>\n",
       "      <td>NICOBARS</td>\n",
       "      <td>2000</td>\n",
       "      <td>Whole Year</td>\n",
       "      <td>Banana</td>\n",
       "      <td>176.0</td>\n",
       "      <td>641.0</td>\n",
       "    </tr>\n",
       "    <tr>\n",
       "      <th>4</th>\n",
       "      <td>Andaman and Nicobar Islands</td>\n",
       "      <td>NICOBARS</td>\n",
       "      <td>2000</td>\n",
       "      <td>Whole Year</td>\n",
       "      <td>Cashewnut</td>\n",
       "      <td>720.0</td>\n",
       "      <td>165.0</td>\n",
       "    </tr>\n",
       "  </tbody>\n",
       "</table>\n",
       "</div>"
      ],
      "text/plain": [
       "                    State_Name District_Name  Crop_Year       Season  \\\n",
       "0  Andaman and Nicobar Islands      NICOBARS       2000  Kharif        \n",
       "1  Andaman and Nicobar Islands      NICOBARS       2000  Kharif        \n",
       "2  Andaman and Nicobar Islands      NICOBARS       2000  Kharif        \n",
       "3  Andaman and Nicobar Islands      NICOBARS       2000  Whole Year    \n",
       "4  Andaman and Nicobar Islands      NICOBARS       2000  Whole Year    \n",
       "\n",
       "                  Crop    Area  Production  \n",
       "0             Arecanut  1254.0      2000.0  \n",
       "1  Other Kharif pulses     2.0         1.0  \n",
       "2                 Rice   102.0       321.0  \n",
       "3               Banana   176.0       641.0  \n",
       "4            Cashewnut   720.0       165.0  "
      ]
     },
     "execution_count": 2,
     "metadata": {},
     "output_type": "execute_result"
    }
   ],
   "source": [
    "data = pd.read_csv(\"crop_production.csv\")\n",
    "data.head()"
   ]
  },
  {
   "cell_type": "markdown",
   "id": "a2a2dd85",
   "metadata": {},
   "source": [
    "# Exploratory Data Anlysis"
   ]
  },
  {
   "cell_type": "code",
   "execution_count": 3,
   "id": "8c01d477",
   "metadata": {},
   "outputs": [
    {
     "name": "stdout",
     "output_type": "stream",
     "text": [
      "['Andaman and Nicobar Islands' 'Andhra Pradesh' 'Arunachal Pradesh'\n",
      " 'Assam' 'Bihar' 'Chandigarh' 'Chhattisgarh' 'Dadra and Nagar Haveli'\n",
      " 'Goa' 'Gujarat' 'Haryana' 'Himachal Pradesh' 'Jammu and Kashmir '\n",
      " 'Jharkhand' 'Karnataka' 'Kerala' 'Madhya Pradesh' 'Maharashtra' 'Manipur'\n",
      " 'Meghalaya' 'Mizoram' 'Nagaland' 'Odisha' 'Puducherry' 'Punjab'\n",
      " 'Rajasthan' 'Sikkim' 'Tamil Nadu' 'Telangana ' 'Tripura' 'Uttar Pradesh'\n",
      " 'Uttarakhand' 'West Bengal']\n"
     ]
    },
    {
     "data": {
      "text/plain": [
       "33"
      ]
     },
     "execution_count": 3,
     "metadata": {},
     "output_type": "execute_result"
    }
   ],
   "source": [
    "# checking whether all the states are present (Total States = 28, Union Terretories = 8)....\n",
    "unique_states = data['State_Name'].unique()\n",
    "print(unique_states)\n",
    "len(unique_states)\n",
    "# Assuming all states are present and some of the Union Terretories are missing....."
   ]
  },
  {
   "cell_type": "code",
   "execution_count": 4,
   "id": "0c81276c",
   "metadata": {},
   "outputs": [
    {
     "name": "stdout",
     "output_type": "stream",
     "text": [
      "The State Daman and Diu is not present.\n",
      "The State Delhi is not present.\n",
      "The State Jammu and Kashmir is not present.\n",
      "The State Ladakh is not present.\n",
      "The State Lakshadweep is not present.\n"
     ]
    }
   ],
   "source": [
    "Union_Terretories = np.array(['Andaman and Nicobar Islands', 'Chandigarh', 'Dadra and Nagar Haveli', 'Daman and Diu', \n",
    "                              'Delhi', 'Jammu and Kashmir', 'Ladakh', 'Lakshadweep', 'Puducherry'], dtype = 'str')\n",
    "for state in Union_Terretories:\n",
    "    is_present = False\n",
    "    for j in unique_states:\n",
    "        if state == j:\n",
    "            is_present = True\n",
    "    if is_present == False:\n",
    "        print(f'The State {state} is not present.')"
   ]
  },
  {
   "cell_type": "code",
   "execution_count": 5,
   "id": "0bbceab0",
   "metadata": {},
   "outputs": [
    {
     "data": {
      "text/plain": [
       "State_Name       False\n",
       "District_Name    False\n",
       "Crop_Year        False\n",
       "Season           False\n",
       "Crop             False\n",
       "Area             False\n",
       "Production        True\n",
       "dtype: bool"
      ]
     },
     "execution_count": 5,
     "metadata": {},
     "output_type": "execute_result"
    }
   ],
   "source": [
    "# Checking for NULL values....\n",
    "data.isnull().any()\n",
    "# Only Production column is having NULL values"
   ]
  },
  {
   "cell_type": "code",
   "execution_count": 6,
   "id": "1510369c",
   "metadata": {},
   "outputs": [
    {
     "name": "stdout",
     "output_type": "stream",
     "text": [
      "There are total 3730 NULL values present.\n",
      "1.5156994770227274% NULL values are there.\n"
     ]
    }
   ],
   "source": [
    "no_of_null_values = data['Production'].isnull().sum()\n",
    "print(f'There are total {no_of_null_values} NULL values present.')\n",
    "percentage_null_values = (no_of_null_values / data['Production'].shape[0]) * 100\n",
    "print(f'{percentage_null_values}% NULL values are there.')"
   ]
  },
  {
   "cell_type": "code",
   "execution_count": 7,
   "id": "ece29192",
   "metadata": {},
   "outputs": [
    {
     "data": {
      "text/plain": [
       "False"
      ]
     },
     "execution_count": 7,
     "metadata": {},
     "output_type": "execute_result"
    }
   ],
   "source": [
    "# Used ffill (forward-fill) method to fill NaN values....\n",
    "data['Production'].fillna(method = 'ffill', inplace=True)\n",
    "data['Production'].isnull().any()"
   ]
  },
  {
   "cell_type": "code",
   "execution_count": 8,
   "id": "ca009d2b",
   "metadata": {},
   "outputs": [
    {
     "name": "stdout",
     "output_type": "stream",
     "text": [
      "<class 'pandas.core.frame.DataFrame'>\n",
      "RangeIndex: 246091 entries, 0 to 246090\n",
      "Data columns (total 7 columns):\n",
      " #   Column         Non-Null Count   Dtype  \n",
      "---  ------         --------------   -----  \n",
      " 0   State_Name     246091 non-null  object \n",
      " 1   District_Name  246091 non-null  object \n",
      " 2   Crop_Year      246091 non-null  int64  \n",
      " 3   Season         246091 non-null  object \n",
      " 4   Crop           246091 non-null  object \n",
      " 5   Area           246091 non-null  float64\n",
      " 6   Production     246091 non-null  float64\n",
      "dtypes: float64(2), int64(1), object(4)\n",
      "memory usage: 13.1+ MB\n"
     ]
    }
   ],
   "source": [
    "data.info() # All the data-types are in proper manner"
   ]
  },
  {
   "cell_type": "code",
   "execution_count": 9,
   "id": "efa3ce00",
   "metadata": {},
   "outputs": [
    {
     "data": {
      "text/plain": [
       "array([2000, 2001, 2002, 2003, 2004, 2005, 2006, 2010, 1997, 1998, 1999,\n",
       "       2007, 2008, 2009, 2011, 2012, 2013, 2014, 2015], dtype=int64)"
      ]
     },
     "execution_count": 9,
     "metadata": {},
     "output_type": "execute_result"
    }
   ],
   "source": [
    "# No. of years in the dataset....\n",
    "years = data['Crop_Year'].unique()\n",
    "years"
   ]
  },
  {
   "cell_type": "markdown",
   "id": "f55b91f0",
   "metadata": {},
   "source": [
    "# Production Analysis"
   ]
  },
  {
   "cell_type": "code",
   "execution_count": 10,
   "id": "c9b31db0",
   "metadata": {},
   "outputs": [
    {
     "data": {
      "image/png": "[encoded data removed]",
      "text/plain": [
       "<Figure size 720x288 with 1 Axes>"
      ]
     },
     "metadata": {
      "needs_background": "light"
     },
     "output_type": "display_data"
    },
    {
     "data": {
      "image/png": "[encoded data removed]",
      "text/plain": [
       "<Figure size 1080x360 with 1 Axes>"
      ]
     },
     "metadata": {
      "needs_background": "light"
     },
     "output_type": "display_data"
    }
   ],
   "source": [
    "# Yearwise production........\n",
    "yearwise_production = []\n",
    "total_production = data['Production'].sum()\n",
    "for year in years:\n",
    "    yearwise_production.append(data[data['Crop_Year']==year]['Production'].sum())\n",
    "    # This is year-wise total production made.....\n",
    "yearwise_production = np.array(yearwise_production)\n",
    "plt.figure(figsize=(10,4))\n",
    "plt.subplot()\n",
    "plt.scatter(years, np.log(yearwise_production), color = 'green', linewidth = 5)\n",
    "plt.xlabel(\"Years\")\n",
    "plt.ylabel('log(production)')\n",
    "plt.title('Yearwise Production')\n",
    "plt.show()\n",
    "\n",
    "# Cropwise Production (TOP 10)........\n",
    "unique_crops = data['Crop'].unique()\n",
    "cropwise_production = []\n",
    "for crop in unique_crops:\n",
    "    cropwise_production.append(data[data['Crop'] == crop]['Production'].sum())\n",
    "    #This is crop-wise total production for all years.....\n",
    "cropwise_production = np.array(cropwise_production)\n",
    "# top 10 productive crops\n",
    "arg_sorted = np.flip(np.argsort(cropwise_production)[-10:]) # indices of 10 maximum productions\n",
    "top_10_crops = {}  # To store top-10 productions\n",
    "for i in range(10):\n",
    "    top_10_crops[unique_crops[arg_sorted[i]]] = cropwise_production[arg_sorted[i]]\n",
    "temp_crops = []\n",
    "for i in top_10_crops.keys():\n",
    "    temp_crops.append(i)\n",
    "temp_production = []\n",
    "for i in top_10_crops.values():\n",
    "    temp_production.append(i)\n",
    "plt.figure(figsize=(15,5))\n",
    "plt.subplot()\n",
    "plt.scatter(x = temp_crops, y = np.log(np.array(temp_production)), linewidth = 8, color = 'red')\n",
    "plt.title('Top-10 Cropwise Productions')\n",
    "plt.xlabel(\"Crops\")\n",
    "plt.ylabel('log(production)')\n",
    "plt.show()"
   ]
  },
  {
   "cell_type": "code",
   "execution_count": 11,
   "id": "44f30f2b",
   "metadata": {},
   "outputs": [
    {
     "data": {
      "text/plain": [
       "array(['Kharif     ', 'Whole Year ', 'Autumn     ', 'Rabi       ',\n",
       "       'Summer     ', 'Winter     '], dtype=object)"
      ]
     },
     "execution_count": 11,
     "metadata": {},
     "output_type": "execute_result"
    }
   ],
   "source": [
    "seasons = data['Season'].unique() # different seasons in the data....\n",
    "seasons"
   ]
  },
  {
   "cell_type": "code",
   "execution_count": 12,
   "id": "63e49e93",
   "metadata": {},
   "outputs": [
    {
     "data": {
      "image/png": "[encoded data removed]",
      "text/plain": [
       "<Figure size 720x288 with 1 Axes>"
      ]
     },
     "metadata": {
      "needs_background": "light"
     },
     "output_type": "display_data"
    },
    {
     "data": {
      "image/png": "[encoded data removed]",
      "text/plain": [
       "<Figure size 1800x360 with 1 Axes>"
      ]
     },
     "metadata": {
      "needs_background": "light"
     },
     "output_type": "display_data"
    }
   ],
   "source": [
    "# Season-wise Production ......\n",
    "seasonwise_production = []\n",
    "for season in seasons:\n",
    "    seasonwise_production.append(data[data['Season'] == season]['Production'].sum())\n",
    "    #This is season-wise total production made....\n",
    "seasonwise_production = np.array(seasonwise_production)\n",
    "plt.figure(figsize=(10,4))\n",
    "plt.subplot()\n",
    "plt.bar(seasons, np.log(seasonwise_production), color = 'lime')\n",
    "plt.title('log(Production) vs Seasons')\n",
    "plt.xlabel(\"Season\")\n",
    "plt.ylabel('log(production)')\n",
    "plt.show()\n",
    "\n",
    "\n",
    "# Statewise production (TOP 10)........\n",
    "statewise_production = []\n",
    "for state in unique_states:\n",
    "    statewise_production.append(data[data['State_Name']==state]['Production'].sum())\n",
    "statewise_production = np.array(statewise_production)\n",
    "# top 10 productive states\n",
    "arg_sorted = np.flip(np.argsort(statewise_production)[-10:]) # indices of 10 maximum productions\n",
    "top_10_states = {}\n",
    "for i in range(10):\n",
    "    top_10_states[unique_states[arg_sorted[i]]] = statewise_production[arg_sorted[i]]\n",
    "temp_states = []\n",
    "for i in top_10_states.keys():\n",
    "    temp_states.append(i)\n",
    "temp_production = []\n",
    "for i in top_10_states.values():\n",
    "    temp_production.append(i)\n",
    "plt.figure(figsize=(25,5))\n",
    "plt.subplot()\n",
    "plt.bar(temp_states, np.log(np.array(temp_production)), color = \"salmon\")\n",
    "plt.title('Top-10 Statewise Productions')\n",
    "plt.xlabel(\"State\")\n",
    "plt.ylabel('log(production)')\n",
    "plt.show()"
   ]
  },
  {
   "cell_type": "markdown",
   "id": "bfe0b351",
   "metadata": {},
   "source": [
    "# Area Analysis"
   ]
  },
  {
   "cell_type": "code",
   "execution_count": 13,
   "id": "76e547db",
   "metadata": {},
   "outputs": [
    {
     "data": {
      "text/plain": [
       "{'Punjab': 39938.728647967226,\n",
       " 'Maharashtra': 25515.223075704784,\n",
       " 'West Bengal': 22407.702888796422,\n",
       " 'Rajasthan': 21737.646236215438,\n",
       " 'Gujarat': 18367.001422475107,\n",
       " 'Haryana': 15250.605276595745,\n",
       " 'Telangana ': 14402.659585767393,\n",
       " 'Madhya Pradesh': 14375.327376541865,\n",
       " 'Andhra Pradesh': 13662.842127129206,\n",
       " 'Uttar Pradesh': 13019.624992493846}"
      ]
     },
     "execution_count": 13,
     "metadata": {},
     "output_type": "execute_result"
    }
   ],
   "source": [
    "mean_area_statewise = []\n",
    "for state in unique_states:\n",
    "    mean_area_statewise.append(data[data['State_Name'] == state]['Area'].mean()) #mean of statewise area involved\n",
    "mean_area_statewise = np.array(mean_area_statewise)\n",
    "top_10_states_areawise = {}\n",
    "arg_sort_areawise = np.flip(np.argsort(mean_area_statewise)[-10:]) # indices of top-10 states areawise\n",
    "for i in range(10):\n",
    "    top_10_states_areawise[unique_states[arg_sort_areawise[i]]] = mean_area_statewise[arg_sort_areawise[i]]\n",
    "top_10_states_areawise"
   ]
  },
  {
   "cell_type": "code",
   "execution_count": 14,
   "id": "f475a530",
   "metadata": {},
   "outputs": [
    {
     "data": {
      "image/png": "[encoded data removed]",
      "text/plain": [
       "<Figure size 1296x360 with 1 Axes>"
      ]
     },
     "metadata": {
      "needs_background": "light"
     },
     "output_type": "display_data"
    },
    {
     "data": {
      "image/png": "[encoded data removed]",
      "text/plain": [
       "<Figure size 864x360 with 1 Axes>"
      ]
     },
     "metadata": {
      "needs_background": "light"
     },
     "output_type": "display_data"
    }
   ],
   "source": [
    "# State-wise plots (TOP-10).....\n",
    "temp_states = []\n",
    "for i in top_10_states_areawise.keys():\n",
    "    temp_states.append(i)\n",
    "temp_states = np.array(temp_states)\n",
    "temp_area = []\n",
    "for i in top_10_states_areawise.values():\n",
    "    temp_area.append(i)\n",
    "temp_area = np.array(temp_area)\n",
    "plt.figure(figsize=(18, 5))\n",
    "plt.bar(temp_states, temp_area, color = 'orange')\n",
    "plt.xlabel('States')\n",
    "plt.ylabel(\"Mean Area in Production\")\n",
    "plt.title(\"Mean Area involved in Production\")\n",
    "plt.show()\n",
    "\n",
    "# Season-wise plots.....\n",
    "seasonwise_area = []\n",
    "for season in seasons:\n",
    "    seasonwise_area.append(data[data['Season'] == season]['Area'].mean())\n",
    "seasonwise_area = np.array(seasonwise_area)\n",
    "plt.figure(figsize=(12,5))\n",
    "plt.subplot()\n",
    "plt.bar(seasons, seasonwise_area, color = 'black')\n",
    "plt.xlabel('Season')\n",
    "plt.ylabel('Mean Area')\n",
    "plt.title('Season-wise Mean of Areas involved')\n",
    "plt.show()"
   ]
  },
  {
   "cell_type": "markdown",
   "id": "2e08aaec",
   "metadata": {},
   "source": [
    "# Production per Area Analysis\n",
    "<p style=\"text-align: center;\">Metrics = <b> Total_seasonwise_production / Total_seasonwise_area </b> </p>"
   ]
  },
  {
   "cell_type": "code",
   "execution_count": 15,
   "id": "517de0b3",
   "metadata": {},
   "outputs": [
    {
     "data": {
      "image/png": "[encoded data removed]",
      "text/plain": [
       "<Figure size 720x360 with 1 Axes>"
      ]
     },
     "metadata": {
      "needs_background": "light"
     },
     "output_type": "display_data"
    }
   ],
   "source": [
    "seasonwise_prod_per_area = seasonwise_production/seasonwise_area\n",
    "plt.figure(figsize=(10, 5))\n",
    "plt.bar(seasons, np.log(seasonwise_prod_per_area), color = 'maroon')\n",
    "plt.xlabel(\"Season\")\n",
    "plt.ylabel(\"log(Seasonwise_prod_per_area)\")\n",
    "plt.title(\"Production per unit Area (Seasonwise)\")\n",
    "plt.show()"
   ]
  },
  {
   "cell_type": "code",
   "execution_count": 16,
   "id": "6bbc794c",
   "metadata": {},
   "outputs": [
    {
     "data": {
      "text/plain": [
       "{'Kerala': 3551.6963681018974,\n",
       " 'Andaman and Nicobar Islands': 2279.556705261473,\n",
       " 'Puducherry': 701.1156335764348,\n",
       " 'Goa': 419.51207105033217,\n",
       " 'Andhra Pradesh': 137.55930303659005,\n",
       " 'Tamil Nadu': 132.5974555923126,\n",
       " 'Assam': 30.00552867102315,\n",
       " 'Uttar Pradesh': 7.478839112128421,\n",
       " 'Uttarakhand': 7.17904192792502,\n",
       " 'West Bengal': 6.49040489275244}"
      ]
     },
     "execution_count": 16,
     "metadata": {},
     "output_type": "execute_result"
    }
   ],
   "source": [
    "total_statewise_prod = []\n",
    "total_statewise_area = []\n",
    "for state in unique_states:\n",
    "    total_statewise_area.append(data[data['State_Name'] == state]['Area'].sum()) # statewise sum of area for all states\n",
    "    total_statewise_prod.append(data[data['State_Name'] == state]['Production'].sum()) # statewise sum of produciton for \n",
    "                                                                                     # all states\n",
    "prod_per_area_statewise = np.array(total_statewise_prod) / np.array(total_statewise_area)\n",
    "arg_sort_per = np.flip(np.argsort(prod_per_area_statewise)[-10:]) # indices of top-10 positions\n",
    "top_10_prod_per_area = {}\n",
    "for i in range(10):\n",
    "    top_10_prod_per_area[unique_states[arg_sort_per[i]]] = prod_per_area_statewise[arg_sort_per[i]]\n",
    "top_10_prod_per_area"
   ]
  },
  {
   "cell_type": "code",
   "execution_count": 17,
   "id": "ec4f8a89",
   "metadata": {},
   "outputs": [
    {
     "data": {
      "image/png": "[encoded data removed]",
      "text/plain": [
       "<Figure size 1584x360 with 1 Axes>"
      ]
     },
     "metadata": {
      "needs_background": "light"
     },
     "output_type": "display_data"
    }
   ],
   "source": [
    "temp_states = []\n",
    "for i in top_10_prod_per_area.keys():\n",
    "    temp_states.append(i)\n",
    "temp_quantity = []\n",
    "for i in top_10_prod_per_area.values():\n",
    "    temp_quantity.append(i)\n",
    "temp_states = np.array(temp_states)\n",
    "temp_quantity = np.array(temp_quantity)\n",
    "plt.figure(figsize=(22, 5))\n",
    "plt.bar(temp_states, np.log(temp_quantity), color = 'wheat')\n",
    "plt.xlabel(\"States\")\n",
    "plt.ylabel('log(Total_Production/Total_Area)')\n",
    "plt.title(\"Production/Area (Statewise)\")\n",
    "plt.show()"
   ]
  },
  {
   "cell_type": "markdown",
   "id": "e02979af",
   "metadata": {},
   "source": [
    "# For live Dashboard:\n",
    "link:- https://public.tableau.com/views/Crops_Analysis/Analysis?:language=en-US&publish=yes&:display_count=n&:origin=viz_share_link"
   ]
  }
 ],
 "metadata": {
  "kernelspec": {
   "display_name": "Python 3 (ipykernel)",
   "language": "python",
   "name": "python3"
  },
  "language_info": {
   "codemirror_mode": {
    "name": "ipython",
    "version": 3
   },
   "file_extension": ".py",
   "mimetype": "text/x-python",
   "name": "python",
   "nbconvert_exporter": "python",
   "pygments_lexer": "ipython3",
   "version": "3.9.12"
  }
 },
 "nbformat": 4,
 "nbformat_minor": 5
}
